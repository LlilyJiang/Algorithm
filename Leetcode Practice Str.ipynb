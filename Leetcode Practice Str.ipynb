{
 "cells": [
  {
   "cell_type": "markdown",
   "metadata": {},
   "source": [
    "1.strStr()\n",
    "Problem Statement\n",
    "\n",
    "Implement strStr().\n",
    "Returns the index of the first occurrence of needle in haystack, or -1 if needle is not part of haystack.\n",
    "Example\n",
    "\n",
    "If source = \"source\" and target = \"target\", return -1.\n",
    "If source = \"abcdabcdefg\" and target = \"bcd\", return 1.+"
   ]
  },
  {
   "cell_type": "code",
   "execution_count": null,
   "metadata": {
    "collapsed": true
   },
   "outputs": [],
   "source": [
    "class Solution:\n",
    "    def strStr(self,source,target){\n",
    "        if source is None or target is None:\n",
    "            return -1\n",
    "\n",
    "        for i in range(len(source) - len(target) + 1):\n",
    "            for j in range(len(target)):\n",
    "                if source[i + j] != target[j]:\n",
    "                    break\n",
    "            else:  # no break\n",
    "                return i\n",
    "        return -1\n",
    "    }"
   ]
  },
  {
   "cell_type": "code",
   "execution_count": null,
   "metadata": {
    "collapsed": true
   },
   "outputs": [],
   "source": [
    "2. Anagrams\n",
    "\n",
    "Write a method anagram(s,t) to decide if two strings are anagrams or not.\n",
    "\n",
    "Example\n",
    "Given s=\"abcd\", t=\"dcab\", return true."
   ]
  },
  {
   "cell_type": "code",
   "execution_count": null,
   "metadata": {
    "collapsed": true
   },
   "outputs": [],
   "source": [
    "### to count the frequency of characters for two string\n",
    "\n",
    "class Solution:\n",
    "    \"\"\"\n",
    "    @param s: The first string\n",
    "    @param b: The second string\n",
    "    @return true or false\n",
    "    \"\"\"\n",
    "    def anagram(self, s, t):\n",
    "        return collections.Counter(s) == collections.Counter(t)\n",
    "\n",
    "\n",
    "#####Or sorted and see whether two string are identical\n",
    "\n",
    "class Solution:\n",
    "    \"\"\"\n",
    "    @param s: The first string\n",
    "    @param b: The second string\n",
    "    @return true or false\n",
    "    \"\"\"\n",
    "    def anagram(self, s, t):\n",
    "        return sorted(s) == sorted(t)"
   ]
  },
  {
   "cell_type": "markdown",
   "metadata": {},
   "source": [
    "3. Compare String\n",
    "\n",
    "Compare two strings A and B, determine whether A contains all of the characters in B.\n",
    "\n",
    "The characters in string A and B are all Upper Case letters.\n",
    "\n",
    "Example\n",
    "For A = \"ABCD\", B = \"ABC\", return true.\n",
    "\n",
    "For A = \"ABCD\" B = \"AABC\", return false.\n"
   ]
  },
  {
   "cell_type": "code",
   "execution_count": null,
   "metadata": {
    "collapsed": true
   },
   "outputs": [],
   "source": [
    "import collections\n",
    "class Solution:\n",
    "    def compare_strings(self, A, B):\n",
    "        # return a dict with default value set to 0\n",
    "        letters = collections.defaultdict(int)\n",
    "        for a in A:\n",
    "            letters[a] += 1\n",
    "\n",
    "        for b in B:\n",
    "            if b not in letters:\n",
    "                return False\n",
    "            elif letters[b] <= 0: \n",
    "                return False\n",
    "            else:\n",
    "                letters[b] -= 1   ###when =0,it indicates that the letter in B equals in A. \n",
    "                                  ###but if in further loops letters[b] = 0,means there appear more letter in B\n",
    "        return True"
   ]
  },
  {
   "cell_type": "markdown",
   "metadata": {},
   "source": [
    "4. Groups Anagrams (49. Difficulty: Medium)\n",
    "\n",
    "Given an array of strings, return all groups of strings that are anagrams.\n",
    "\n",
    "Example\n",
    "Given [\"lint\", \"intl\", \"inlt\", \"code\"], return [\"lint\", \"inlt\", \"intl\"].\n",
    "\n",
    "Given [\"ab\", \"ba\", \"cd\", \"dc\", \"e\"], return [\"ab\", \"ba\", \"cd\", \"dc\"]."
   ]
  },
  {
   "cell_type": "code",
   "execution_count": null,
   "metadata": {
    "collapsed": true
   },
   "outputs": [],
   "source": [
    "class Solution:\n",
    "    # @param strs: A list of strings\n",
    "    # @return: A list of strings\n",
    "    # @return: A list of strings\n",
    "    def anagrams(self, strs):\n",
    "\n",
    "        if len(strs) < 2 :\n",
    "            return strs\n",
    "        result=[]\n",
    "        visited=[False]*len(strs)\n",
    "        for index1,s1 in enumerate(strs):\n",
    "            hasAnagrams = False\n",
    "            for index2,s2 in enumerate(strs): \n",
    "                if index2 > index1 and not visited[index2] and self.isAnagrams(s1,s2):\n",
    "                    #if s2 is already visited (already proved to be an anagram to one of str),\n",
    "                    #then s2 will not be added again. if s2 is new, add to result.\n",
    "                    result.append(s2) \n",
    "                    visited[index2]=True\n",
    "                    hasAnagrams = True\n",
    "            if not visited[index1] and hasAnagrams:\n",
    "                result.append(s1) #if s1 has not been added to result before as s2, then add it to result\n",
    "        return result\n",
    "\n",
    "    def isAnagrams(self, str1, str2):\n",
    "        if  sorted (str1) == sorted(str2):\n",
    "                return True\n",
    "        return False"
   ]
  },
  {
   "cell_type": "code",
   "execution_count": null,
   "metadata": {
    "collapsed": true
   },
   "outputs": [],
   "source": []
  },
  {
   "cell_type": "code",
   "execution_count": 10,
   "metadata": {
    "collapsed": false
   },
   "outputs": [],
   "source": [
    "class Solution:\n",
    "    \"\"\"\n",
    "    param A: A string\n",
    "    param offset: Rotate string with offset.\n",
    "    return: Rotated string.\n",
    "    \"\"\"\n",
    "    def rotateString(self, A, offset):\n",
    "        if A is None or len(A) == 0:\n",
    "            return A\n",
    "\n",
    "        offset %= len(A)\n",
    "        before = A[:len(A) - offset]\n",
    "        after = A[len(A) - offset:]\n",
    "        # [::-1] means reverse in Python\n",
    "        print(before)\n",
    "        print(after)\n",
    "        print(before[::-1])\n",
    "        A = before[::-1] + after[::-1]\n",
    "        A = A[::-1]\n",
    "\n",
    "        return A\n",
    "\n",
    "testStr=\"abcdefg\""
   ]
  },
  {
   "cell_type": "markdown",
   "metadata": {},
   "source": [
    "Valid Palindrome ( a word, phrase, number, or other sequence of characters which reads the same backward or forward.)\n",
    "\n",
    "Given a string, determine if it is a palindrome,\n",
    "considering only alphanumeric characters and ignoring cases.\n",
    "\n",
    "Example\n",
    "\"A man, a plan, a canal: Panama\" is a palindrome.\n",
    "\n",
    "\"race a car\" is not a palindrome.\n",
    "\n",
    "Note\n",
    "Have you consider that the string might be empty?\n",
    "This is a good question to ask during an interview.\n",
    "For the purpose of this problem,\n",
    "we define empty string as valid palindrome.\n",
    "\n",
    "Challenge\n",
    "O(n) time without extra memory.\n"
   ]
  },
  {
   "cell_type": "code",
   "execution_count": null,
   "metadata": {
    "collapsed": true
   },
   "outputs": [],
   "source": [
    "class Solution:\n",
    "    # @param {string} s A string\n",
    "    # @return {boolean} Whether the string is a valid palindrome\n",
    "    ### consider the case the left or right char may be space or punctuation....\n",
    "    def isPalindrome(self, s):\n",
    "        if not s:\n",
    "            return True\n",
    "\n",
    "        l, r = 0, len(s) - 1\n",
    "\n",
    "        while l < r:\n",
    "            # find left alphanumeric character\n",
    "            if not s[l].isalnum():\n",
    "                l += 1\n",
    "                continue\n",
    "            # find right alphanumeric character\n",
    "            if not s[r].isalnum():\n",
    "                r -= 1\n",
    "                continue\n",
    "            # case insensitive compare\n",
    "            if s[l].lower() == s[r].lower():\n",
    "                l += 1\n",
    "                r -= 1\n",
    "            else:\n",
    "                return False\n",
    "\n",
    "        return True\n",
    "\n",
    "### or more simple\n",
    "    def isPalindrome(self, s):\n",
    "        if not s:\n",
    "            return False\n",
    "        # reverse compare\n",
    "        return s == s[::-1]"
   ]
  },
  {
   "cell_type": "markdown",
   "metadata": {},
   "source": [
    "Longest Palindromic Substring (5. medium)\n",
    "\n",
    "Given a string S, find the longest palindromic substring in S.\n",
    "You may assume that the maximum length of S is 1000,\n",
    "and there exists one unique longest palindromic substring.\n",
    "\n",
    "Example\n",
    "Given the string = \"abcdzdcab\", return \"cdzdc\".\n",
    "Challenge\n",
    "O(n2) time is acceptable. Can you do it in O(n) time."
   ]
  },
  {
   "cell_type": "code",
   "execution_count": null,
   "metadata": {
    "collapsed": true
   },
   "outputs": [],
   "source": [
    "class Solution:\n",
    "    # @param {string} s input string\n",
    "    # @return {string} the longest palindromic substring\n",
    "    def longestPalindrome(self, s):\n",
    "        if not s:\n",
    "            return \"\"\n",
    "\n",
    "        n = len(s)\n",
    "        longest, left, right = 0, 0, 0\n",
    "        # search for all possible substring and record the length\n",
    "        for i in xrange(0, n):\n",
    "            for j in xrange(i + 1, n + 1):\n",
    "                substr = s[i:j]\n",
    "                if self.isPalindrome(substr) and len(substr) > longest:\n",
    "                    longest = len(substr)\n",
    "                    left, right = i, j\n",
    "        # construct longest substr\n",
    "        result = s[left:right]\n",
    "        return result\n",
    "\n",
    "    def isPalindrome(self, s):\n",
    "        if not s:\n",
    "            return False\n",
    "        # reverse compare\n",
    "        return s == s[::-1]\n",
    "\n",
    "### another idea: for each char, assume as the middle of palindrome"
   ]
  },
  {
   "cell_type": "markdown",
   "metadata": {},
   "source": [
    "Length of Last Word:\n",
    "\n",
    "Given a string s consists of upper/lower-case alphabets and empty space characters ' ',\n",
    "return the length of last word in the string.\n",
    "\n",
    "If the last word does not exist, return 0.\n",
    "\n",
    "Have you met this question in a real interview? Yes\n",
    "Example\n",
    "Given s = \"Hello World\", return 5.\n",
    "\n",
    "Note\n",
    "A word is defined as a character sequence consists of non-space characters only."
   ]
  },
  {
   "cell_type": "code",
   "execution_count": 17,
   "metadata": {
    "collapsed": false
   },
   "outputs": [],
   "source": [
    "class Solution:\n",
    "\n",
    "    def LengthLastWord(self, s):\n",
    "        if s is None or len(s) == 0:\n",
    "            return 0\n",
    "\n",
    "        l=len(s)-1\n",
    "        i=0\n",
    "        while l>=0:\n",
    "            if s[l]==' ':\n",
    "               break \n",
    "            i+=1\n",
    "            l-=1\n",
    "        \n",
    "        return i"
   ]
  },
  {
   "cell_type": "code",
   "execution_count": 19,
   "metadata": {
    "collapsed": false
   },
   "outputs": [
    {
     "name": "stdout",
     "output_type": "stream",
     "text": [
      "4\n"
     ]
    }
   ],
   "source": [
    "a=Solution()\n",
    "print a.LengthLastWord('Hello word')"
   ]
  },
  {
   "cell_type": "code",
   "execution_count": null,
   "metadata": {
    "collapsed": true
   },
   "outputs": [],
   "source": []
  }
 ],
 "metadata": {
  "kernelspec": {
   "display_name": "Python 2",
   "language": "python",
   "name": "python2"
  },
  "language_info": {
   "codemirror_mode": {
    "name": "ipython",
    "version": 2
   },
   "file_extension": ".py",
   "mimetype": "text/x-python",
   "name": "python",
   "nbconvert_exporter": "python",
   "pygments_lexer": "ipython2",
   "version": "2.7.11"
  }
 },
 "nbformat": 4,
 "nbformat_minor": 0
}
