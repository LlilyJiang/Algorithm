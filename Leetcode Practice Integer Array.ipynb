{
 "cells": [
  {
   "cell_type": "markdown",
   "metadata": {},
   "source": [
    "Given an array and a value, remove all occurrences of that value in place and return the new length.\n",
    "\n",
    "The order of elements can be changed, and the elements after the new length don't matter.\n",
    "\n",
    "Example\n",
    "Given an array [0,4,4,0,0,2,4,4], value=4\n",
    "\n",
    "return 4 and front four elements of the array is [0,0,0,2]\n"
   ]
  },
  {
   "cell_type": "code",
   "execution_count": 2,
   "metadata": {
    "collapsed": true
   },
   "outputs": [],
   "source": [
    "#1. Remove Element\n",
    "\n",
    "class Solution:\n",
    "   \n",
    "    def RemoveElement(self, A, value):\n",
    "        A=[x for x in A if x != value]\n",
    "        \n",
    "        return A\n",
    "\n",
    "test_A=[0,4,4,0,0,2,4,4]\n"
   ]
  },
  {
   "cell_type": "code",
   "execution_count": 4,
   "metadata": {
    "collapsed": false
   },
   "outputs": [
    {
     "data": {
      "text/plain": [
       "[0, 0, 0, 2]"
      ]
     },
     "execution_count": 4,
     "metadata": {},
     "output_type": "execute_result"
    }
   ],
   "source": [
    "B=Solution()\n",
    "B.RemoveElement(test_A,4)"
   ]
  },
  {
   "cell_type": "markdown",
   "metadata": {},
   "source": [
    "Given an array of integers, find two numbers such that they add up to a specific target number.\n",
    "The function twoSum should return indices of the two numbers such that they add up to the target, where index1 must be less than index2. Please note that your returned answers (both index1 and index2) are NOT zero-based.+\n",
    "\n",
    "Note:\n",
    "You may assume that each input would have exactly one solution+\n",
    "\n"
   ]
  },
  {
   "cell_type": "code",
   "execution_count": null,
   "metadata": {
    "collapsed": true
   },
   "outputs": [],
   "source": [
    "#2. 2 Sum\n",
    "\n",
    "class Solution:\n",
    "    \"\"\"\n",
    "    @param numbers : An array of Integer\n",
    "    @param target : target = numbers[index1] + numbers[index2]\n",
    "    @return : [index1 + 1, index2 + 1] (index1 < index2)\n",
    "    \"\"\"\n",
    "    def twoSum(self, numbers, target):\n",
    "        hashdict = {}\n",
    "        for i, item in enumerate(numbers):\n",
    "            if (target - item) in hashdict:\n",
    "                return (hashdict[target - item] + 1, i + 1)\n",
    "            hashdict[item] = i  #add new item index to the dict if not match the target\n",
    "\n",
    "        return (-1, -1) #no\n"
   ]
  },
  {
   "cell_type": "markdown",
   "metadata": {},
   "source": [
    "Given an array S of n integers, are there elements a, b, c in S such that a + b + c = 0? \n",
    "Find all unique triplets in the array which gives the sum of zero.\n",
    "\n",
    "For example, given array S = [-1, 0, 1, 2, -1, -4],\n",
    "\n",
    "A solution set is:\n",
    "[\n",
    "  [-1, 0, 1],\n",
    "  [-1, -1, 2]\n",
    "]"
   ]
  },
  {
   "cell_type": "code",
   "execution_count": null,
   "metadata": {
    "collapsed": true
   },
   "outputs": [],
   "source": [
    "#3. 3 Sum\n",
    "\n",
    "###Sort first... and then take out one element (one by one) and do the 2 sum for the remaining numbers\n",
    "class Solution:\n",
    "    \"\"\"\n",
    "    @param numbersbers : Give an array numbersbers of n integer\n",
    "    @return : Find all unique triplets in the array which gives the sum of zero.\n",
    "    \"\"\"\n",
    "    def threeSum(self, numbers):\n",
    "        triplets = []\n",
    "        length = len(numbers)\n",
    "        if length < 3:\n",
    "            return triplets\n",
    "\n",
    "        numbers.sort()  ###sort and for each iteration eliminate one element..\n",
    "        for i in xrange(length):\n",
    "            target = 0 - numbers[i]\n",
    "            # 2 Sum\n",
    "            hashmap = {}\n",
    "            for j in xrange(i + 1, length):\n",
    "                item_j = numbers[j]\n",
    "                if (target - item_j) in hashmap:\n",
    "                    triplet = [numbers[i], target - item_j, item_j]\n",
    "                    if triplet not in triplets:\n",
    "                        triplets.append(triplet)\n",
    "                else:\n",
    "                    hashmap[item_j] = j\n",
    "\n",
    "        return triplets"
   ]
  }
 ],
 "metadata": {
  "kernelspec": {
   "display_name": "Python 2",
   "language": "python",
   "name": "python2"
  },
  "language_info": {
   "codemirror_mode": {
    "name": "ipython",
    "version": 2
   },
   "file_extension": ".py",
   "mimetype": "text/x-python",
   "name": "python",
   "nbconvert_exporter": "python",
   "pygments_lexer": "ipython2",
   "version": "2.7.11"
  }
 },
 "nbformat": 4,
 "nbformat_minor": 0
}
